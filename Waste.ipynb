{
  "nbformat": 4,
  "nbformat_minor": 0,
  "metadata": {
    "colab": {
      "name": "Waste.ipynb",
      "provenance": [],
      "collapsed_sections": [],
      "toc_visible": true
    },
    "kernelspec": {
      "name": "python3",
      "display_name": "Python 3"
    },
    "language_info": {
      "name": "python"
    },
    "accelerator": "TPU"
  },
  "cells": [
    {
      "cell_type": "markdown",
      "metadata": {
        "id": "kEq5HI-0PQWr"
      },
      "source": [
        "# Kaggle"
      ]
    },
    {
      "cell_type": "code",
      "metadata": {
        "id": "p9GqQdEkOBqw",
        "colab": {
          "base_uri": "https://localhost:8080/"
        },
        "outputId": "6d07c8f4-c7fe-49de-fd3b-b182bf936d2f"
      },
      "source": [
        "from google.colab import drive\n",
        "drive.mount('/content/drive')"
      ],
      "execution_count": null,
      "outputs": [
        {
          "output_type": "stream",
          "text": [
            "Mounted at /content/drive\n"
          ],
          "name": "stdout"
        }
      ]
    },
    {
      "cell_type": "code",
      "metadata": {
        "id": "jti-iD8OPXOb",
        "colab": {
          "base_uri": "https://localhost:8080/"
        },
        "outputId": "0005f751-a2f6-450c-ffe1-021b35689fc5"
      },
      "source": [
        "!mkdir -p ~/.kaggle\n",
        "!cp \"/content/drive/My Drive/Kaggle/kaggle.json\" ~/.kaggle/\n",
        "!ls ~/.kaggle\n",
        "!chmod 600 /root/.kaggle/kaggle.json"
      ],
      "execution_count": null,
      "outputs": [
        {
          "output_type": "stream",
          "text": [
            "kaggle.json\n"
          ],
          "name": "stdout"
        }
      ]
    },
    {
      "cell_type": "code",
      "metadata": {
        "id": "0qosRQqEPbz5",
        "colab": {
          "base_uri": "https://localhost:8080/"
        },
        "outputId": "95bf4798-eb42-42ed-e162-29d876fef127"
      },
      "source": [
        "!kaggle datasets download -d asdasdasasdas/garbage-classification"
      ],
      "execution_count": null,
      "outputs": [
        {
          "output_type": "stream",
          "text": [
            "Downloading garbage-classification.zip to /content\n",
            " 91% 75.0M/82.0M [00:00<00:00, 79.6MB/s]\n",
            "100% 82.0M/82.0M [00:00<00:00, 98.3MB/s]\n"
          ],
          "name": "stdout"
        }
      ]
    },
    {
      "cell_type": "code",
      "metadata": {
        "id": "-8dc8N9UTige"
      },
      "source": [
        "!unzip -q garbage-classification.zip -d ."
      ],
      "execution_count": null,
      "outputs": []
    },
    {
      "cell_type": "code",
      "metadata": {
        "id": "EiLJaebXTrz0",
        "colab": {
          "base_uri": "https://localhost:8080/"
        },
        "outputId": "02127732-e2ff-4176-f546-90581441b209"
      },
      "source": [
        "!ls 'garbage classification'"
      ],
      "execution_count": null,
      "outputs": [
        {
          "output_type": "stream",
          "text": [
            "'Garbage classification'\n"
          ],
          "name": "stdout"
        }
      ]
    },
    {
      "cell_type": "markdown",
      "metadata": {
        "id": "pFd2YjS5U26d"
      },
      "source": [
        "# The Code"
      ]
    },
    {
      "cell_type": "code",
      "metadata": {
        "id": "UtHfR0eGU8FS"
      },
      "source": [
        "import numpy as np\n",
        "import matplotlib.pyplot as plt\n",
        "from keras.preprocessing.image import ImageDataGenerator, load_img, img_to_array, array_to_img\n",
        "import tensorflow as tf\n",
        "from \n",
        "\n",
        "import glob, os, random"
      ],
      "execution_count": null,
      "outputs": []
    },
    {
      "cell_type": "code",
      "metadata": {
        "colab": {
          "base_uri": "https://localhost:8080/"
        },
        "id": "N280JUzCVFFg",
        "outputId": "367c5539-fff9-494a-c17d-816bf3fa6864"
      },
      "source": [
        "base_path = './garbage classification/Garbage classification'\n",
        "\n",
        "img_list = glob.glob(os.path.join(base_path, '*/*.jpg'))\n",
        "\n",
        "print(len(img_list))"
      ],
      "execution_count": null,
      "outputs": [
        {
          "output_type": "stream",
          "text": [
            "2527\n"
          ],
          "name": "stdout"
        }
      ]
    },
    {
      "cell_type": "code",
      "metadata": {
        "colab": {
          "base_uri": "https://localhost:8080/",
          "height": 244
        },
        "id": "VI9NqXOAqRhX",
        "outputId": "96b33791-d12b-4794-851d-8fa0dc6ee27e"
      },
      "source": [
        "for i, img_path in enumerate(random.sample(img_list, 6)):\n",
        "    img = load_img(img_path)\n",
        "    img = img_to_array(img, dtype=np.uint8)\n",
        "\n",
        "    plt.subplot(2, 3, i+1)\n",
        "    plt.imshow(img.squeeze())"
      ],
      "execution_count": null,
      "outputs": [
        {
          "output_type": "display_data",
          "data": {
            "image/png": "[encoded data removed]",
            "text/plain": [
              "<Figure size 432x288 with 6 Axes>"
            ]
          },
          "metadata": {
            "tags": [],
            "needs_background": "light"
          }
        }
      ]
    },
    {
      "cell_type": "code",
      "metadata": {
        "colab": {
          "base_uri": "https://localhost:8080/"
        },
        "id": "YkMXnt1oqz_p",
        "outputId": "5be1844b-cd0b-4714-e1e0-b0cf1d7edf89"
      },
      "source": [
        "train_datagen = ImageDataGenerator(\n",
        "    rescale=1./255,\n",
        "    shear_range=0.2,\n",
        "    zoom_range=0.2,\n",
        "    width_shift_range=0.2,\n",
        "    height_shift_range=0.2,\n",
        "    horizontal_flip=True,\n",
        "    rotation_range=40,\n",
        "    fill_mode='nearest'\n",
        ")\n",
        "\n",
        "test_datagen = ImageDataGenerator(\n",
        "    rescale=1./255,\n",
        "    validation_split=0.1\n",
        ")\n",
        "\n",
        "train_generator = train_datagen.flow_from_directory(\n",
        "    base_path,\n",
        "    target_size=(300, 300),\n",
        "    batch_size=16,\n",
        "    class_mode='categorical',\n",
        "    subset='training',\n",
        "    seed=0\n",
        ")\n",
        "\n",
        "validation_generator = test_datagen.flow_from_directory(\n",
        "    base_path,\n",
        "    target_size=(300, 300),\n",
        "    batch_size=16,\n",
        "    class_mode='categorical',\n",
        "    subset='validation',\n",
        "    seed=0\n",
        ")\n",
        "\n",
        "labels = (train_generator.class_indices)\n",
        "labels = dict((v,k) for k,v in labels.items())\n",
        "\n",
        "print(labels)"
      ],
      "execution_count": null,
      "outputs": [
        {
          "output_type": "stream",
          "text": [
            "Found 2527 images belonging to 6 classes.\n",
            "Found 251 images belonging to 6 classes.\n",
            "{0: 'cardboard', 1: 'glass', 2: 'metal', 3: 'paper', 4: 'plastic', 5: 'trash'}\n"
          ],
          "name": "stdout"
        }
      ]
    },
    {
      "cell_type": "code",
      "metadata": {
        "colab": {
          "base_uri": "https://localhost:8080/"
        },
        "id": "2t49rRc_q4dB",
        "outputId": "e2c21e8c-3c55-4ad0-a26b-14e5d418e4cb"
      },
      "source": [
        "model = tf.keras.models.Sequential([\n",
        "    tf.keras.layers.Conv2D(32, (3,3), input_shape=(300, 300, 3), padding='same', activation='relu'),\n",
        "    tf.keras.layers.MaxPooling2D(2,2),\n",
        "    tf.keras.layers.Conv2D(64, (3,3), padding='same', activation='relu'),\n",
        "    tf.keras.layers.MaxPooling2D(2,2),\n",
        "    tf.keras.layers.Conv2D(32, (3, 3), padding='same', activation='relu'),\n",
        "    tf.keras.layers.MaxPooling2D(2,2),\n",
        "    tf.keras.layers.Conv2D(32, (3, 3), padding='same', activation='relu'),\n",
        "    tf.keras.layers.MaxPooling2D(2,2),    \n",
        "    tf.keras.layers.Flatten(),\n",
        "    tf.keras.layers.Dense(64, activation='relu'),\n",
        "    tf.keras.layers.Dense(6, activation='softmax')\n",
        "])\n",
        "\n",
        "model.compile(loss = 'categorical_crossentropy', optimizer='adam', metrics=['acc'])\n",
        "\n",
        "model.summary()"
      ],
      "execution_count": null,
      "outputs": [
        {
          "output_type": "stream",
          "text": [
            "Model: \"sequential_2\"\n",
            "_________________________________________________________________\n",
            "Layer (type)                 Output Shape              Param #   \n",
            "=================================================================\n",
            "conv2d_8 (Conv2D)            (None, 300, 300, 32)      896       \n",
            "_________________________________________________________________\n",
            "max_pooling2d_8 (MaxPooling2 (None, 150, 150, 32)      0         \n",
            "_________________________________________________________________\n",
            "conv2d_9 (Conv2D)            (None, 150, 150, 64)      18496     \n",
            "_________________________________________________________________\n",
            "max_pooling2d_9 (MaxPooling2 (None, 75, 75, 64)        0         \n",
            "_________________________________________________________________\n",
            "conv2d_10 (Conv2D)           (None, 75, 75, 32)        18464     \n",
            "_________________________________________________________________\n",
            "max_pooling2d_10 (MaxPooling (None, 37, 37, 32)        0         \n",
            "_________________________________________________________________\n",
            "conv2d_11 (Conv2D)           (None, 37, 37, 32)        9248      \n",
            "_________________________________________________________________\n",
            "max_pooling2d_11 (MaxPooling (None, 18, 18, 32)        0         \n",
            "_________________________________________________________________\n",
            "flatten_2 (Flatten)          (None, 10368)             0         \n",
            "_________________________________________________________________\n",
            "dense_4 (Dense)              (None, 64)                663616    \n",
            "_________________________________________________________________\n",
            "dense_5 (Dense)              (None, 6)                 390       \n",
            "=================================================================\n",
            "Total params: 711,110\n",
            "Trainable params: 711,110\n",
            "Non-trainable params: 0\n",
            "_________________________________________________________________\n"
          ],
          "name": "stdout"
        }
      ]
    },
    {
      "cell_type": "code",
      "metadata": {
        "colab": {
          "base_uri": "https://localhost:8080/"
        },
        "id": "-kFSGTdRtyv9",
        "outputId": "129ed5d7-1a7b-4d6a-a0bf-32da2fa0381e"
      },
      "source": [
        "pog = model.fit(train_generator, epochs=75, steps_per_epoch=15, validation_data = validation_generator, verbose = 1, validation_steps=5)\n",
        "model.save(\"model.h5\")\n",
        "!cp \"./model.h5\" \"/content/drive/My Drive/Kaggle/\""
      ],
      "execution_count": null,
      "outputs": [
        {
          "output_type": "stream",
          "text": [
            "Epoch 1/75\n",
            "15/15 [==============================] - 40s 3s/step - loss: 1.7540 - acc: 0.1875 - val_loss: 1.7231 - val_acc: 0.2500\n",
            "Epoch 2/75\n",
            "15/15 [==============================] - 40s 3s/step - loss: 1.6824 - acc: 0.2552 - val_loss: 1.6979 - val_acc: 0.3375\n",
            "Epoch 3/75\n",
            "15/15 [==============================] - 43s 3s/step - loss: 1.6010 - acc: 0.3542 - val_loss: 1.4859 - val_acc: 0.3750\n",
            "Epoch 4/75\n",
            "15/15 [==============================] - 40s 3s/step - loss: 1.6026 - acc: 0.2958 - val_loss: 1.5465 - val_acc: 0.3250\n",
            "Epoch 5/75\n",
            "15/15 [==============================] - 40s 3s/step - loss: 1.5700 - acc: 0.3625 - val_loss: 1.5437 - val_acc: 0.2875\n",
            "Epoch 6/75\n",
            "15/15 [==============================] - 40s 3s/step - loss: 1.5604 - acc: 0.3542 - val_loss: 1.6034 - val_acc: 0.2875\n",
            "Epoch 7/75\n",
            "15/15 [==============================] - 40s 3s/step - loss: 1.5620 - acc: 0.3667 - val_loss: 1.4859 - val_acc: 0.4125\n",
            "Epoch 8/75\n",
            "15/15 [==============================] - 39s 3s/step - loss: 1.5017 - acc: 0.3042 - val_loss: 1.4709 - val_acc: 0.3625\n",
            "Epoch 9/75\n",
            "15/15 [==============================] - 40s 3s/step - loss: 1.5180 - acc: 0.3542 - val_loss: 1.4895 - val_acc: 0.4000\n",
            "Epoch 10/75\n",
            "15/15 [==============================] - 40s 3s/step - loss: 1.5202 - acc: 0.3808 - val_loss: 1.5949 - val_acc: 0.3625\n",
            "Epoch 11/75\n",
            "15/15 [==============================] - 40s 3s/step - loss: 1.4948 - acc: 0.3917 - val_loss: 1.4255 - val_acc: 0.3625\n",
            "Epoch 12/75\n",
            "15/15 [==============================] - 40s 3s/step - loss: 1.4337 - acc: 0.3917 - val_loss: 1.3945 - val_acc: 0.5000\n",
            "Epoch 13/75\n",
            "15/15 [==============================] - 39s 3s/step - loss: 1.4220 - acc: 0.4292 - val_loss: 1.3737 - val_acc: 0.4750\n",
            "Epoch 14/75\n",
            "15/15 [==============================] - 39s 3s/step - loss: 1.4377 - acc: 0.4417 - val_loss: 1.3836 - val_acc: 0.4625\n",
            "Epoch 15/75\n",
            "15/15 [==============================] - 39s 3s/step - loss: 1.3314 - acc: 0.4167 - val_loss: 1.3731 - val_acc: 0.4500\n",
            "Epoch 16/75\n",
            "15/15 [==============================] - 39s 3s/step - loss: 1.4629 - acc: 0.4208 - val_loss: 1.4754 - val_acc: 0.4000\n",
            "Epoch 17/75\n",
            "15/15 [==============================] - 39s 3s/step - loss: 1.3762 - acc: 0.4477 - val_loss: 1.5440 - val_acc: 0.3625\n",
            "Epoch 18/75\n",
            "15/15 [==============================] - 42s 3s/step - loss: 1.3662 - acc: 0.4833 - val_loss: 1.3789 - val_acc: 0.3875\n",
            "Epoch 19/75\n",
            "15/15 [==============================] - 39s 3s/step - loss: 1.3591 - acc: 0.4500 - val_loss: 1.5364 - val_acc: 0.3750\n",
            "Epoch 20/75\n",
            "15/15 [==============================] - 39s 3s/step - loss: 1.4062 - acc: 0.4125 - val_loss: 1.3405 - val_acc: 0.4875\n",
            "Epoch 21/75\n",
            "15/15 [==============================] - 40s 3s/step - loss: 1.3595 - acc: 0.4542 - val_loss: 1.3047 - val_acc: 0.4750\n",
            "Epoch 22/75\n",
            "15/15 [==============================] - 40s 3s/step - loss: 1.3771 - acc: 0.4417 - val_loss: 1.3513 - val_acc: 0.4625\n",
            "Epoch 23/75\n",
            "15/15 [==============================] - 40s 3s/step - loss: 1.3617 - acc: 0.3958 - val_loss: 1.6188 - val_acc: 0.2875\n",
            "Epoch 24/75\n",
            "15/15 [==============================] - 39s 3s/step - loss: 1.2807 - acc: 0.4625 - val_loss: 1.2535 - val_acc: 0.5625\n",
            "Epoch 25/75\n",
            "15/15 [==============================] - 39s 3s/step - loss: 1.3632 - acc: 0.4184 - val_loss: 1.2962 - val_acc: 0.4500\n",
            "Epoch 26/75\n",
            "15/15 [==============================] - 39s 3s/step - loss: 1.3399 - acc: 0.4583 - val_loss: 1.3675 - val_acc: 0.4000\n",
            "Epoch 27/75\n",
            "15/15 [==============================] - 39s 3s/step - loss: 1.3323 - acc: 0.4310 - val_loss: 1.2530 - val_acc: 0.5000\n",
            "Epoch 28/75\n",
            "15/15 [==============================] - 39s 3s/step - loss: 1.3434 - acc: 0.4208 - val_loss: 1.3070 - val_acc: 0.4125\n",
            "Epoch 29/75\n",
            "15/15 [==============================] - 39s 3s/step - loss: 1.3626 - acc: 0.4226 - val_loss: 1.3518 - val_acc: 0.4375\n",
            "Epoch 30/75\n",
            "15/15 [==============================] - 39s 3s/step - loss: 1.3383 - acc: 0.4458 - val_loss: 1.1969 - val_acc: 0.5500\n",
            "Epoch 31/75\n",
            "15/15 [==============================] - 39s 3s/step - loss: 1.3930 - acc: 0.4250 - val_loss: 1.4269 - val_acc: 0.4500\n",
            "Epoch 32/75\n",
            "15/15 [==============================] - 39s 3s/step - loss: 1.2578 - acc: 0.4792 - val_loss: 1.3407 - val_acc: 0.4750\n",
            "Epoch 33/75\n",
            "15/15 [==============================] - 40s 3s/step - loss: 1.2921 - acc: 0.4542 - val_loss: 1.3121 - val_acc: 0.4375\n",
            "Epoch 34/75\n",
            "15/15 [==============================] - 39s 3s/step - loss: 1.3101 - acc: 0.4792 - val_loss: 1.2927 - val_acc: 0.4250\n",
            "Epoch 35/75\n",
            "15/15 [==============================] - 39s 3s/step - loss: 1.2288 - acc: 0.4875 - val_loss: 1.2140 - val_acc: 0.5125\n",
            "Epoch 36/75\n",
            "15/15 [==============================] - 39s 3s/step - loss: 1.2759 - acc: 0.4667 - val_loss: 1.3127 - val_acc: 0.5375\n",
            "Epoch 37/75\n",
            "15/15 [==============================] - 39s 3s/step - loss: 1.2058 - acc: 0.5167 - val_loss: 1.3201 - val_acc: 0.4625\n",
            "Epoch 38/75\n",
            "15/15 [==============================] - 39s 3s/step - loss: 1.3184 - acc: 0.4958 - val_loss: 1.2990 - val_acc: 0.4875\n",
            "Epoch 39/75\n",
            "15/15 [==============================] - 39s 3s/step - loss: 1.2838 - acc: 0.4333 - val_loss: 1.1431 - val_acc: 0.5125\n",
            "Epoch 40/75\n",
            "15/15 [==============================] - 39s 3s/step - loss: 1.2211 - acc: 0.4833 - val_loss: 1.2493 - val_acc: 0.4875\n",
            "Epoch 41/75\n",
            "15/15 [==============================] - 39s 3s/step - loss: 1.1761 - acc: 0.5417 - val_loss: 1.3746 - val_acc: 0.4375\n",
            "Epoch 42/75\n",
            "15/15 [==============================] - 39s 3s/step - loss: 1.2225 - acc: 0.5083 - val_loss: 1.2301 - val_acc: 0.4625\n",
            "Epoch 43/75\n",
            "15/15 [==============================] - 39s 3s/step - loss: 1.3090 - acc: 0.4958 - val_loss: 1.4082 - val_acc: 0.4250\n",
            "Epoch 44/75\n",
            "15/15 [==============================] - 39s 3s/step - loss: 1.2722 - acc: 0.4667 - val_loss: 1.2793 - val_acc: 0.4500\n",
            "Epoch 45/75\n",
            "15/15 [==============================] - 39s 3s/step - loss: 1.2450 - acc: 0.5208 - val_loss: 1.2858 - val_acc: 0.5000\n",
            "Epoch 46/75\n",
            "15/15 [==============================] - 39s 3s/step - loss: 1.3369 - acc: 0.4583 - val_loss: 1.2590 - val_acc: 0.4625\n",
            "Epoch 47/75\n",
            "15/15 [==============================] - 39s 3s/step - loss: 1.2180 - acc: 0.5292 - val_loss: 1.4012 - val_acc: 0.4375\n",
            "Epoch 48/75\n",
            "15/15 [==============================] - 39s 3s/step - loss: 1.1741 - acc: 0.5417 - val_loss: 1.3125 - val_acc: 0.4250\n",
            "Epoch 49/75\n",
            "15/15 [==============================] - 39s 3s/step - loss: 1.1566 - acc: 0.5774 - val_loss: 1.2343 - val_acc: 0.4875\n",
            "Epoch 50/75\n",
            "15/15 [==============================] - 39s 3s/step - loss: 1.1636 - acc: 0.5667 - val_loss: 1.1290 - val_acc: 0.5125\n",
            "Epoch 51/75\n",
            "15/15 [==============================] - 39s 3s/step - loss: 1.2407 - acc: 0.5292 - val_loss: 1.3907 - val_acc: 0.4000\n",
            "Epoch 52/75\n",
            "15/15 [==============================] - 39s 3s/step - loss: 1.1622 - acc: 0.5958 - val_loss: 1.1469 - val_acc: 0.5625\n",
            "Epoch 53/75\n",
            "15/15 [==============================] - 39s 3s/step - loss: 1.0682 - acc: 0.5816 - val_loss: 1.1182 - val_acc: 0.5875\n",
            "Epoch 54/75\n",
            "15/15 [==============================] - 39s 3s/step - loss: 1.0202 - acc: 0.6067 - val_loss: 1.0828 - val_acc: 0.5625\n",
            "Epoch 55/75\n",
            "15/15 [==============================] - 39s 3s/step - loss: 1.0688 - acc: 0.6333 - val_loss: 1.2730 - val_acc: 0.4875\n",
            "Epoch 56/75\n",
            "15/15 [==============================] - 39s 3s/step - loss: 1.1529 - acc: 0.5458 - val_loss: 1.0453 - val_acc: 0.6125\n",
            "Epoch 57/75\n",
            "15/15 [==============================] - 42s 3s/step - loss: 1.0883 - acc: 0.5958 - val_loss: 1.0767 - val_acc: 0.6000\n",
            "Epoch 58/75\n",
            "15/15 [==============================] - 39s 3s/step - loss: 1.0765 - acc: 0.5833 - val_loss: 1.2618 - val_acc: 0.4875\n",
            "Epoch 59/75\n",
            "15/15 [==============================] - 39s 3s/step - loss: 1.0167 - acc: 0.6583 - val_loss: 1.2317 - val_acc: 0.5500\n",
            "Epoch 60/75\n",
            "15/15 [==============================] - 39s 3s/step - loss: 1.1591 - acc: 0.5542 - val_loss: 1.2130 - val_acc: 0.5375\n",
            "Epoch 61/75\n",
            "15/15 [==============================] - 39s 3s/step - loss: 1.0266 - acc: 0.5917 - val_loss: 1.1197 - val_acc: 0.6125\n",
            "Epoch 62/75\n",
            "15/15 [==============================] - 39s 3s/step - loss: 1.1670 - acc: 0.5875 - val_loss: 1.1430 - val_acc: 0.5125\n",
            "Epoch 63/75\n",
            "15/15 [==============================] - 39s 3s/step - loss: 1.0429 - acc: 0.6167 - val_loss: 0.9816 - val_acc: 0.5875\n",
            "Epoch 64/75\n",
            "15/15 [==============================] - 39s 3s/step - loss: 1.0351 - acc: 0.5941 - val_loss: 1.1583 - val_acc: 0.5375\n",
            "Epoch 65/75\n",
            "15/15 [==============================] - 39s 3s/step - loss: 1.2237 - acc: 0.5250 - val_loss: 1.1016 - val_acc: 0.5875\n",
            "Epoch 66/75\n",
            "15/15 [==============================] - 39s 3s/step - loss: 1.0917 - acc: 0.5958 - val_loss: 1.1896 - val_acc: 0.5625\n",
            "Epoch 67/75\n",
            "15/15 [==============================] - 39s 3s/step - loss: 1.0330 - acc: 0.5833 - val_loss: 1.0936 - val_acc: 0.5875\n",
            "Epoch 68/75\n",
            "15/15 [==============================] - 39s 3s/step - loss: 1.0813 - acc: 0.5875 - val_loss: 1.1250 - val_acc: 0.5500\n",
            "Epoch 69/75\n",
            "15/15 [==============================] - 39s 3s/step - loss: 1.0898 - acc: 0.6208 - val_loss: 0.9146 - val_acc: 0.6250\n",
            "Epoch 70/75\n",
            "15/15 [==============================] - 39s 3s/step - loss: 1.0721 - acc: 0.6000 - val_loss: 1.1344 - val_acc: 0.5500\n",
            "Epoch 71/75\n",
            "15/15 [==============================] - 39s 3s/step - loss: 1.0020 - acc: 0.6542 - val_loss: 0.9348 - val_acc: 0.6375\n",
            "Epoch 72/75\n",
            "15/15 [==============================] - 39s 3s/step - loss: 1.0323 - acc: 0.6083 - val_loss: 1.1277 - val_acc: 0.5875\n",
            "Epoch 73/75\n",
            "15/15 [==============================] - 40s 3s/step - loss: 1.1111 - acc: 0.5958 - val_loss: 1.0500 - val_acc: 0.5375\n",
            "Epoch 74/75\n",
            "15/15 [==============================] - 39s 3s/step - loss: 1.0574 - acc: 0.6167 - val_loss: 1.1397 - val_acc: 0.4375\n",
            "Epoch 75/75\n",
            "15/15 [==============================] - 39s 3s/step - loss: 1.0608 - acc: 0.5875 - val_loss: 1.0855 - val_acc: 0.5500\n"
          ],
          "name": "stdout"
        }
      ]
    },
    {
      "cell_type": "code",
      "metadata": {
        "id": "SV1LwQKu1HKr"
      },
      "source": [
        ""
      ],
      "execution_count": null,
      "outputs": []
    }
  ]
}